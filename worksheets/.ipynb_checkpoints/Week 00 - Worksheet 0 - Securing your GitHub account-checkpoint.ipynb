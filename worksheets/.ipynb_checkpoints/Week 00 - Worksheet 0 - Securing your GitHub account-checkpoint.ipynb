{
 "cells": [
  {
   "cell_type": "markdown",
   "metadata": {},
   "source": [
    "# Week 00, Worksheet 0: Securing your GitHub account\n",
    "\n",
    "In this activity, we'll secure your GitHub account using an SSH key.\n",
    "\n",
    "## Table of contents\n",
    "\n",
    "---\n",
    "\n",
    "* [Overview](#Overview)\n",
    "* [Steps to create an SSH key](#Steps-to-create-an-SSH-key)\n",
    "* [Adding the key to GitHub](#Adding-your-key-to-GitHub)\n",
    "* [Finishing this activity](#Finishing-this-activity)\n",
    "\n",
    "## Overview\n",
    "\n",
    "---\n",
    "\n",
    "This may seem like an extra step -- and it is. But, it's an important one. Completing this activity will allow you to retrieve course content in a more secure way than logging into GitHub _and_ will streamline the process of working with repositories.\n",
    "\n",
    "Big promises, but -- trust me -- they're true.\n",
    "\n",
    "Now that you have some familiarity with a terminal, I'm going outsource explaining how to generate a key to...myself. \n",
    "\n",
    "Click the image below to watch a short video about creating SSH keys. There's an activity in the video that you can follow to generate your own key on this server (in your terminal).\n",
    "\n",
    "A step-by-step outline follows the video, if you're into the tl;dr.\n",
    "\n",
    "(But watch the video; it appeals to my vanity.)\n",
    "\n",
    "[![YouTube thumbnail](https://i3.ytimg.com/vi/qEPjUGQFmzQ/hqdefault.jpg)](https://www.youtube.com/watch?v=qEPjUGQFmzQ)\n",
    "\n",
    "## Steps to create an SSH key\n",
    "\n",
    "1. Open a [terminal](../README.md#Using-our-terminal)\n",
    "2. At the prompt, type (or copy and paste): `ssh-keygen -t rsa -b 4096 -C \"YOUR ALLEGHENY EMAIL\"`\n",
    "3. When asked for a location at which to save the key, leave it blank to accept the default value and press `Enter`\n",
    "4. Provide a password for the key when the system asks\n",
    "  * When typing characters at the prompt, no text will appear -- this is normal\n",
    "  * `ssh-keygen` will request your password twice to ensure you've got it right\n",
    "\n",
    "Your key files (private/public) live at the following location: `~/.ssh/`.\n",
    "\n",
    "## Adding your key to GitHub\n",
    "\n",
    "1. In the terminal, type (or copy and paste): `cat ~/.ssh/id_rsa.pub`\n",
    "  * This should print something that looks like gibberish to your screen\n",
    "2. Copy the output starting at `ssh-rsa` to the end (your Allegheny email address)\n",
    "3. Head over to [GitHub](https://www.github.com)\n",
    "4. Locate and click your profile picture in the upper right corner of the screen\n",
    "5. Select `Settings` from the resulting menu\n",
    "6. On the next page, locate and click the `SSH and GPG keys` menu item\n",
    "7. Click the `New SSH key` button (it's green)\n",
    "8. Title your key something descriptive\n",
    "  * I'll offer: `Allegheny CS JupyterLab`\n",
    "  * Copy and paste that, if you like\n",
    "9. Paste the gibberish in the `Key Field`"
   ]
  },
  {
   "cell_type": "markdown",
   "metadata": {},
   "source": [
    "## Finishing this activity\n",
    "\n",
    "---\n",
    "\n",
    "* Remove this `TODO`\n",
    "\n",
    "We'll also know you've successfully completed this step if you can complete the rest of the activities in this week's packet."
   ]
  }
 ],
 "metadata": {
  "kernelspec": {
   "display_name": "Python 3",
   "language": "python",
   "name": "python3"
  },
  "language_info": {
   "codemirror_mode": {
    "name": "ipython",
    "version": 3
   },
   "file_extension": ".py",
   "mimetype": "text/x-python",
   "name": "python",
   "nbconvert_exporter": "python",
   "pygments_lexer": "ipython3",
   "version": "3.8.2"
  }
 },
 "nbformat": 4,
 "nbformat_minor": 4
}
