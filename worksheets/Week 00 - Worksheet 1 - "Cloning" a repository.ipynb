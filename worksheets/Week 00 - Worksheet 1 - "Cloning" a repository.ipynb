{
 "cells": [
  {
   "cell_type": "markdown",
   "metadata": {},
   "source": [
    "# Week 00, Worksheet 1: \"Cloning\" a repository\n",
    " \n",
    "In this activity, we'll download this week's entire packet of files. \n",
    "\n",
    "## Table of contents\n",
    "---\n",
    "\n",
    "* [What is \"cloning\"?](#What-is-\"cloning\"?)\n",
    "* [`clone` your repository](#Clone-your-repository)\n",
    "\n",
    "## What is \"cloning\"?\n",
    " \n",
    "---\n",
    "\n",
    "While it may be tempting or convenient to think of this as _downloading_ something, that's not quite what \"cloning\" is. More accurately, a `clone` operation creates a _copy_ or _version_ of the group of files in a [repository](../README.md#\"Repositories\").\n",
    "\n",
    "For any given repository, anyone with the permission to perform a `clone` creates a version of it. This version can then `commit` and `push` back to GitHub to update the original. We'll `commit` and `push` our work later.\n",
    "\n",
    "## `clone` your repository\n",
    "\n",
    "---\n",
    "\n",
    "For this part of the activity:\n",
    "\n",
    "* head over to our [course GitHub organization](https://github.com/allegheny-college-cmpsc-100-fall-2020) in a web browser\n",
    "* Be sure to have a [terminal open in JupyterHub](../README.md/#Using-our-terminal)\n",
    "\n",
    "1. Locate and click the repository with the name `cmpsc-100-fall-2020-week-00-configuration-YOUR GITHUB USERNAME`\n",
    "  * This is the page for _your copy_ of my main repository\n",
    "2. On the page, locate and click the green `Code` button in the upper(ish)-right\n",
    "3. In the resulting popover, click the `Use SSH` link option\n",
    "  * This allows us to `clone` these files using your SSH key\n",
    "4. Copy the link beginning `git@`\n",
    "  * For example, mine would look like:\n",
    "    ```\n",
    "    git@github.com:allegheny-college-cmpsc-100-fall-2020/cmpsc-100-fall-2020-week-00-configuration-dluman\n",
    "    ```\n",
    "5. In your terminal, be sure that you're in your home directory (`~`)\n",
    "  * If unsure, type `cd` or `cd ~` and press `Enter`\n",
    "  * Check where you are by typing `pwd` and pressing `Enter`\n",
    "  * If the result looks like `/home/YOUR GITHUB USERNAME`, you're in the right place\n",
    "6. When at the correct location, type `git clone THE LINK YOU COPIED IN STEP 4` and press `Enter`\n",
    "\n",
    "## Finishing this activity\n",
    "\n",
    "---\n",
    "\n",
    "This operation should `clone` your copy of my repository to your JupyterLab. Verify by looking in the file tree at the left. Do you see a new folder named `cmpsc-100-fall-2020-week-00-configuration-YOUR GITHUB USERNAME`? If so, you're done."
   ]
  },
  {
   "cell_type": "markdown",
   "metadata": {},
   "source": [
    "## Finishing this activity\n",
    "\n",
    "---\n",
    "\n",
    "This operation should `clone` your copy of my repository to your JupyterLab. Verify by looking in the file tree at the left. Do you see a new folder named `cmpsc-100-fall-2020-week-00-configuration-YOUR GITHUB USERNAME`? If so, you're done:\n",
    "\n",
    "* Remove this `TODO`"
   ]
  }
 ],
 "metadata": {
  "kernelspec": {
   "display_name": "Python 3",
   "language": "python",
   "name": "python3"
  },
  "language_info": {
   "codemirror_mode": {
    "name": "ipython",
    "version": 3
   },
   "file_extension": ".py",
   "mimetype": "text/x-python",
   "name": "python",
   "nbconvert_exporter": "python",
   "pygments_lexer": "ipython3",
   "version": "3.8.2"
  }
 },
 "nbformat": 4,
 "nbformat_minor": 4
}
